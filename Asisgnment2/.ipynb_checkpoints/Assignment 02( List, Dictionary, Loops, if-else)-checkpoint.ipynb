{
 "cells": [
  {
   "cell_type": "markdown",
   "id": "0bb392da",
   "metadata": {},
   "source": [
    "# -----------Assignment 02:-----------\n",
    "##  ******Topics:( List, Dictionary, Loops, if-else)******\n"
   ]
  },
  {
   "cell_type": "markdown",
   "id": "004e4ce2",
   "metadata": {},
   "source": [
    "### Scenario 1: Grocery Shopping List\n",
    "- You are creating a program to manage a grocery shopping list.\n",
    "- Users should be able to \n",
    "- add items, \n",
    "- remove items,\n",
    "- display the current list"
   ]
  },
  {
   "cell_type": "markdown",
   "id": "bc08156a",
   "metadata": {},
   "source": [
    "##### Task\n",
    "- empty list\n",
    "- add\n",
    "- update\n",
    "- remove\n",
    "- final list\n"
   ]
  },
  {
   "cell_type": "code",
   "execution_count": 1,
   "id": "56843d54",
   "metadata": {},
   "outputs": [
    {
     "name": "stdout",
     "output_type": "stream",
     "text": [
      "Items can be seperated by comma like: rice,beans\n",
      "Enter your grocery items :rice,beans,carrot,banana\n",
      "Grocery list is:\n",
      " ['rice', 'beans', 'carrot', 'banana']\n",
      "Are you sure this is your complete shopping list(yes'Y' or no 'N'):N\n",
      "Items can be seperated by comma like: rice,beans\n",
      "Enter more items to your shopping list :apple,guava,spanich\n",
      "Updated list is : ['rice', 'beans', 'carrot', 'banana', 'apple', 'guava', 'spanich']\n",
      "Are you sure this is your complete shopping list(yes'Y' or no 'N'):N\n",
      "Items can be seperated by comma like: rice,beans\n",
      "Enter items you want to remove :apple,guava\n",
      "Now your Grocery List is \n",
      "['rice', 'beans', 'carrot', 'banana', 'spanich']\n"
     ]
    }
   ],
   "source": [
    "# making an empty list\n",
    "grocery_list =[]\n",
    "print(\"Items can be seperated by comma like: rice,beans\")\n",
    "grocery_items = input(\"Enter your grocery items :\").split(',')\n",
    "# adding items by using .extend function:\n",
    "grocery_list.extend(grocery_items)\n",
    "print(\"Grocery list is:\\n\",grocery_list)\n",
    "# asking user to 'continue' or 'stop' the program:\n",
    "choice = input(\"Are you sure this is your complete shopping list(yes'Y' or no 'N'):\")\n",
    "if choice == 'N':\n",
    "# Adding more items in grocery_list:\n",
    "    print(\"Items can be seperated by comma like: rice,beans\")\n",
    "    more_items = input('Enter more items to your shopping list :').split(',')\n",
    "    grocery_list.extend(more_items)\n",
    "    print(\"Updated list is :\",grocery_list)\n",
    "# asking user to 'continue' or 'stop' the program:\n",
    "    choice2 = input(\"Are you sure this is your complete shopping list(yes'Y' or no 'N'):\")\n",
    "    if choice2 =='N':\n",
    "            print(\"Items can be seperated by comma like: rice,beans\")\n",
    "            remove_items = input('Enter items you want to remove :').split(',')\n",
    "            for temp in remove_items:\n",
    "                if temp in remove_items:\n",
    "                    grocery_list.remove(temp)\n",
    "            print(f\"Now your Grocery List is \\n{grocery_list}\")\n",
    "    else:\n",
    "        print(f\"{grocery_list}\")\n",
    "else:\n",
    "    print(f\"{grocery_list}\")\n",
    "    "
   ]
  },
  {
   "cell_type": "code",
   "execution_count": 45,
   "id": "81275992",
   "metadata": {},
   "outputs": [
    {
     "name": "stdout",
     "output_type": "stream",
     "text": [
      "Items can be seperated by comma like: rice,beans\n",
      "Enter your grocery items :j,k\n",
      "Grocery list is:\n",
      " ['j', 'k']\n",
      "Are you sure this is your complete shopping list(yes'Y' or no 'N'):N\n",
      "Items can be seperated by comma like: rice,beans\n",
      "Enter more items to your shopping list :u,o\n",
      "Updated list is : ['j', 'k', 'u', 'o']\n",
      "Are you sure this is your complete shopping list(yes'Y' or no 'N'):N\n",
      "Items can be seperated by comma like: rice,beans\n",
      "Enter items you want to remove :u,j\n",
      "Now your Grocery List is \n",
      "['k', 'o']\n"
     ]
    }
   ],
   "source": [
    "grocery_list =[]\n",
    "print(\"Items can be seperated by comma like: rice,beans\")\n",
    "grocery_items = input(\"Enter your grocery items :\").split(',')\n",
    "\n",
    "grocery_list.extend(grocery_items)\n",
    "\n",
    "print(\"Grocery list is:\\n\",grocery_list)\n",
    "choice = input(\"Are you sure this is your complete shopping list(yes'Y' or no 'N'):\")\n",
    "if choice == 'N':\n",
    "    print(\"Items can be seperated by comma like: rice,beans\")\n",
    "    more_items = input('Enter more items to your shopping list :').split(',')\n",
    "    grocery_list.extend(more_items)\n",
    "    print(\"Updated list is :\",grocery_list)\n",
    "    choice2 = input(\"Are you sure this is your complete shopping list(yes'Y' or no 'N'):\")\n",
    "    if choice =='N':\n",
    "            print(\"Items can be seperated by comma like: rice,beans\")\n",
    "            remove_items = input('Enter items you want to remove :').split(',')\n",
    "            for temp in remove_items:\n",
    "                if temp in grocery_list:\n",
    "                    grocery_list.remove(temp)\n",
    "            print(f\"Now your Grocery List is: \\n{grocery_list}\")\n",
    "    else:\n",
    "        print(f\"{grocery_list}\")\n",
    "else:\n",
    "    print(f\"{grocery_list}\")"
   ]
  },
  {
   "cell_type": "markdown",
   "id": "30b935d7",
   "metadata": {},
   "source": [
    "## Scenario 2: Student Grades\n",
    "- You are managing student grades using a dictionary,\n",
    "- You need to calculate the average grade,\n",
    "- take atleast 5 Students grades, \n",
    "- then calculate the average."
   ]
  },
  {
   "cell_type": "code",
   "execution_count": null,
   "id": "654e062d",
   "metadata": {},
   "outputs": [],
   "source": [
    "# an empty dict\n",
    "choice = input(\"Are you a college student or university student \\\n",
    "('C' for college or 'U' for university)\")\n",
    "if choice == 'C':\n",
    "    students_grades = {}\n",
    "    students = int(input('\\n Enter the number of students :'))\n",
    "    subjects = int(input('\\n Enter the number of subjects :'))\n",
    "    student_name = []\n",
    "    for temp in range(0,students):\n",
    "        students_name = input(f'\\n Enter the name of student {temp +1} : ')\n",
    "        grades = []\n",
    "        for subject in range(0,subjects):\n",
    "            students_marks = int(input(f'\\tEnter the marks of subject {subject+1} : '))\n",
    "            grades.append(students_marks)\n",
    "            student_data.append({'name' : students_name, 'grade' :grades})\n",
    "    for student in student_data:\n",
    "        print(f\"\\nStudent Name: {student['name']}\")\n",
    "        for i, grades in enumerate(student['grades']):\n",
    "            print(f\"Subject {i + 1}: {grades}\")\n"
   ]
  },
  {
   "cell_type": "code",
   "execution_count": 1,
   "id": "1a82d05a",
   "metadata": {},
   "outputs": [
    {
     "name": "stdout",
     "output_type": "stream",
     "text": [
      "Are you a college student or university student ('C' for college or 'U' for university)C\n",
      "\n",
      "Enter the number of students: 2\n",
      "Enter the number of subjects: 5\n",
      "\n",
      "Enter the name of student 1: Umer\n",
      "\tEnter the marks of subject 1: 56\n",
      "\tEnter the marks of subject 2: 85\n",
      "\tEnter the marks of subject 3: 96\n",
      "\tEnter the marks of subject 4: 22\n",
      "\tEnter the marks of subject 5: 12\n",
      "\n",
      "Enter the name of student 2: Ali\n",
      "\tEnter the marks of subject 1: 78\n",
      "\tEnter the marks of subject 2: 99\n",
      "\tEnter the marks of subject 3: 45\n",
      "\tEnter the marks of subject 4: 12\n",
      "\tEnter the marks of subject 5: 36\n",
      "\n",
      "Student Name: Umer\n",
      "Total Marks: 271\n",
      "Average Marks: 54.20\n",
      "\n",
      "Student Name: Ali\n",
      "Total Marks: 270\n",
      "Average Marks: 54.00\n"
     ]
    }
   ],
   "source": [
    "# an empty list to store student data\n",
    "student_data = []\n",
    "\n",
    "choice = input(\"Are you a college student or university student ('C' for college or 'U' for university)\")\n",
    "if choice == 'C':\n",
    "    students_grades = {}\n",
    "    students = int(input('\\nEnter the number of students: '))\n",
    "    subjects = int(input('Enter the number of subjects: '))\n",
    "    \n",
    "    for temp in range(students):\n",
    "        student_name = input(f'\\nEnter the name of student {temp + 1}: ')\n",
    "        grades = []\n",
    "        for subject in range(subjects):\n",
    "            student_marks = int(input(f'\\tEnter the marks of subject {subject + 1}: '))\n",
    "            grades.append(student_marks)\n",
    "        student_data.append({'name': student_name, 'grades': grades})\n",
    "\n",
    "# Calculate the sum and average of grades\n",
    "    for student in student_data:\n",
    "        print(f\"\\nStudent Name: {student['name']}\")\n",
    "        total_marks = sum(student['grades'])\n",
    "        average_marks = total_marks / len(student['grades'])\n",
    "        print(f\"Total Marks: {total_marks}\")\n",
    "        print(f\"Average Marks: {average_marks:.2f}\")\n",
    "else:\n",
    "    print('The following program is not for University students :)')"
   ]
  },
  {
   "cell_type": "markdown",
   "id": "4e90f0a5",
   "metadata": {},
   "source": [
    "# Scenario 3: Word Frequency Counter\n",
    "### - You are given a list of words, and you need to count the frequency of each word.\n",
    "#### word_list = [\"apple\", \"banana\", \"apple\", \"orange\", \"banana\", \"grape\", \"apple\"]"
   ]
  },
  {
   "cell_type": "code",
   "execution_count": 7,
   "id": "be84297b",
   "metadata": {},
   "outputs": [],
   "source": [
    "word_list = [\"apple\", \"banana\", \"apple\", \"orange\", \"banana\", \"grape\", \"apple\"]\n",
    "word_frequency = {}"
   ]
  },
  {
   "cell_type": "code",
   "execution_count": 8,
   "id": "23e805d8",
   "metadata": {},
   "outputs": [
    {
     "name": "stdout",
     "output_type": "stream",
     "text": [
      " apple : 3\n",
      " banana : 2\n",
      " orange : 1\n",
      " grape : 1\n"
     ]
    }
   ],
   "source": [
    "for word in word_list:\n",
    "    if word in word_frequency:\n",
    "        word_frequency[word] += 1#increment\n",
    "    else:\n",
    "        word_frequency[word] = 1\n",
    "for word, frequency in word_frequency.items():\n",
    "    print(f\" {word} : {frequency}\")"
   ]
  },
  {
   "cell_type": "markdown",
   "id": "f6998314",
   "metadata": {},
   "source": [
    "# Scenario 3: Password Strength Checker\n",
    "## You are creating a program to check the strength of passwords based on certain criteria.\n",
    "#### • Password should be at least 8 characters long.\n",
    "#### • Password should contain at least one digit.\n",
    "#### • Password should contain at least one letter.\n"
   ]
  },
  {
   "cell_type": "code",
   "execution_count": 61,
   "id": "10b45aa0",
   "metadata": {},
   "outputs": [
    {
     "ename": "IndentationError",
     "evalue": "expected an indented block after 'for' statement on line 9 (3120183418.py, line 11)",
     "output_type": "error",
     "traceback": [
      "\u001b[1;36m  Cell \u001b[1;32mIn[61], line 11\u001b[1;36m\u001b[0m\n\u001b[1;33m    j = i\u001b[0m\n\u001b[1;37m    ^\u001b[0m\n\u001b[1;31mIndentationError\u001b[0m\u001b[1;31m:\u001b[0m expected an indented block after 'for' statement on line 9\n"
     ]
    }
   ],
   "source": [
    "password = str(input('Enter your password here: '))\n",
    "\n",
    "if len(password) >= 8:\n",
    "    initial_list = []\n",
    "    initial_list.append(password)\n",
    "    print(f\"Password saved in list: {initial_list}\")\n",
    "\n",
    "    for i in initial_list:\n",
    "        for j in i:\n",
    "            print(j)\n",
    "        j = i\n",
    "        print(j)\n",
    "\n",
    "        if_digit = False\n",
    "        character = False\n",
    "\n",
    "        for digit in j:\n",
    "            if digit >= '0' and digit <= '9':\n",
    "                if_digit = True\n",
    "                break\n",
    "\n",
    "        for char in j:\n",
    "            if char >= 'a' and char <= 'z' or char >= 'A' and char <= 'Z':\n",
    "                character = True\n",
    "                print('Pasword is strong')\n",
    "\n",
    "                break\n",
    "\n",
    "        if not character:\n",
    "            print(' • Password should contain at least one letter.')\n",
    "\n",
    "        if not if_digit:\n",
    "            print(' • Password should contain at least one digit.')\n",
    "else:\n",
    "    print(' • Password should be at least 8 characters long.')"
   ]
  },
  {
   "cell_type": "code",
   "execution_count": null,
   "id": "8d54c351",
   "metadata": {},
   "outputs": [],
   "source": []
  },
  {
   "cell_type": "markdown",
   "id": "8bf3ca6b",
   "metadata": {},
   "source": [
    "# Scenario 04: Voting System (Annual Employee Recognition Awards)\n",
    "You are developing a simple voting system for a contest. Users can vote for their Favorite option, and you need to count the votes. In a corporate setting, the HR department is organizing the Annual Employee Recognition Awards, where employees get the opportunity to vote for their colleagues nominated in different categories. The HR team has decided to use a simple voting system to collect and tally votes for the nominees in various award categories. The script provided will be utilized for this purpose. Candidates: The nominees for different award categories, such as \"Employee of the Year,\" \"Team Player of the Year,\" and \"Innovation Award,\" are represented by the list of candidates: 'Candidate A,' 'Candidate B,' and 'Candidate C.' Voting Process: Employees are requested to input the number of voters participating in the awards. Each voter is presented with a list of nominees, and they can vote for their preferred candidate by entering the corresponding number. Validation: The script ensures that the entered vote is within the valid range of candidates. If an employee enters an invalid vote, the system prompts them to choose a valid candidate. Recording Votes: The script records each vote for the selected candidate and prints a confirmation message indicating that the vote has been recorded. Results Display: Once all votes are collected, the system displays the voting results, showing the number of votes each candidate received in each category. Award Winners: Based on the voting results, the HR department can identify the winners for each award category and proceed with recognizing and rewarding the selected employees during the Annual Employee Recognition Ceremony. This script provides a straightforward and transparent way for employees to participate in the recognition process, fostering a sense of engagement and community within the organization. The HR team can use the collected votes to acknowledge and appreciate the efforts of outstanding employees in various aspects of their work"
   ]
  },
  {
   "cell_type": "code",
   "execution_count": null,
   "id": "75945df0",
   "metadata": {},
   "outputs": [],
   "source": [
    "candidates = ['Candidate A', 'Candidate B', 'Candidate C']\n",
    "votes_count = {candidate: 0 for candidate in candidates}\n",
    "\n",
    "total_voters_input = input(\"Enter the number of voters participating: \")\n",
    "\n",
    "if total_voters_input.isdigit():\n",
    "    total_voters = int(total_voters_input)\n",
    "\n",
    "    for voter in range(1, total_voters + 1):\n",
    "        print(f\"\\nVoter {voter}:\")\n",
    "\n",
    "        for attempt in range(3):\n",
    "            vote_input = input(\"Choose your candidate (1 for A, 2 for B, 3 for C): \")\n",
    "\n",
    "            if vote_input.isdigit() and 1 <= int(vote_input) <= 3:\n",
    "                selected_candidate = candidates[int(vote_input) - 1]\n",
    "                votes_count[selected_candidate] += 1\n",
    "                print(f\"Vote recorded for {selected_candidate}.\\n\")\n",
    "                break\n",
    "            else:\n",
    "                print(\"Invalid vote. Enter a number between 1 and 3.\")\n",
    "\n",
    "            if attempt == 2:\n",
    "                print(\"Max attempts reached. Moving to the next voter.\")\n",
    "\n",
    "    print(\"\\nVoting Results:\")\n",
    "    for candidate, votes in votes_count.items():\n",
    "        print(f\"{candidate}: {votes} votes\")\n",
    "\n",
    "    print(\"\\nThank you for participating!\")\n",
    "\n",
    "else:\n",
    "    print(\"Invalid input. Please enter a valid number.\")"
   ]
  },
  {
   "cell_type": "code",
   "execution_count": 6,
   "id": "aec24d5e",
   "metadata": {},
   "outputs": [
    {
     "name": "stdout",
     "output_type": "stream",
     "text": [
      "Enter the roll number of present students4545\n",
      "Enter the roll number of present students8878\n",
      "Enter the roll number of present students54545\n",
      "Enter the roll number of present students45454\n",
      "Enter the roll number of present students54545\n"
     ]
    }
   ],
   "source": [
    "students_list = ['Umer',\n",
    "                'Ahsan',\n",
    "                'Hassan',\n",
    "                'Kashif',\n",
    "                'Ibrahim',\n",
    "                'Qazi',\n",
    "               'Najam',\n",
    "                'Faris']\n",
    "present_students = []\n",
    "for roll_no in range(5):\n",
    "    roll_no = int(input('Enter the roll number of present students'))\n",
    "\n",
    "    \n",
    "    "
   ]
  },
  {
   "cell_type": "code",
   "execution_count": 4,
   "id": "2ca7c68a",
   "metadata": {},
   "outputs": [
    {
     "data": {
      "text/plain": [
       "{}"
      ]
     },
     "execution_count": 4,
     "metadata": {},
     "output_type": "execute_result"
    }
   ],
   "source": [
    "present_students"
   ]
  },
  {
   "cell_type": "code",
   "execution_count": null,
   "id": "97e455ce",
   "metadata": {},
   "outputs": [],
   "source": []
  }
 ],
 "metadata": {
  "kernelspec": {
   "display_name": "Python 3 (ipykernel)",
   "language": "python",
   "name": "python3"
  },
  "language_info": {
   "codemirror_mode": {
    "name": "ipython",
    "version": 3
   },
   "file_extension": ".py",
   "mimetype": "text/x-python",
   "name": "python",
   "nbconvert_exporter": "python",
   "pygments_lexer": "ipython3",
   "version": "3.11.5"
  }
 },
 "nbformat": 4,
 "nbformat_minor": 5
}
