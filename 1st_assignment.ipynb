{
 "cells": [
  {
   "cell_type": "markdown",
   "id": "bdb196db",
   "metadata": {},
   "source": [
    "1) A company decided to give bonus of 5% to employee if his/her year of service is more than 5 years. Ask user for their salary and year of service and print the net bonus amount."
   ]
  },
  {
   "cell_type": "code",
   "execution_count": null,
   "id": "1aed4d49",
   "metadata": {},
   "outputs": [],
   "source": [
    "Salary=int(input(\"Your Salary :\"))\n",
    "Years= int(input (\"Years of Services:\"))\n",
    "\n",
    "if Years > 5:\n",
    "    print(\"Your bonus amount is :\",Salary*5/100 )\n",
    "else:\n",
    "    print(\"You're not eligible for bonus\")"
   ]
  },
  {
   "cell_type": "markdown",
   "id": "946709ed",
   "metadata": {},
   "source": [
    "2) Write a program to check whether a person is eligible for voting or not. (accept age from user) if age is greater than 17 eligible otherwise not eligible. "
   ]
  },
  {
   "cell_type": "code",
   "execution_count": null,
   "id": "e581c86a",
   "metadata": {},
   "outputs": [],
   "source": [
    "age= int(input(\"Enter your age :\"))\n",
    "if age > 17 :\n",
    "    print(\"You are eligible for voating :)\")\n",
    "else :\n",
    "    print(\"You are'nt eligible for voating :!\")"
   ]
  },
  {
   "cell_type": "markdown",
   "id": "b3995c64",
   "metadata": {},
   "source": [
    "3) Write a program to check whether a number entered by user is even or odd."
   ]
  },
  {
   "cell_type": "code",
   "execution_count": null,
   "id": "fd0ece9b",
   "metadata": {},
   "outputs": [],
   "source": [
    "num = int (input(\"Enter number :\"))\n",
    "if num%2 != 0:\n",
    "    print(\"The given number is ODD\")\n",
    "else:\n",
    "    print('The given number is EVEN')"
   ]
  },
  {
   "cell_type": "markdown",
   "id": "b104d6fc",
   "metadata": {},
   "source": [
    "4) Write a program to check whether a number is divisible by 7 or not. Show Answer."
   ]
  },
  {
   "cell_type": "code",
   "execution_count": null,
   "id": "2f736c93",
   "metadata": {},
   "outputs": [],
   "source": [
    "num = int(input(\"Enter the value :\"))\n",
    "if num%7==0:\n",
    "    print (num,\" is divisible by 7\")\n",
    "else :\n",
    "    print (\"Not divisible by 7\")"
   ]
  },
  {
   "cell_type": "markdown",
   "id": "dbc17e13",
   "metadata": {},
   "source": [
    "5) Write a program to display \"Hello\" if a number entered by user is a multiple of five , otherwise print \"Bye\".\n",
    "###### "
   ]
  },
  {
   "cell_type": "code",
   "execution_count": null,
   "id": "596aa4b6",
   "metadata": {},
   "outputs": [],
   "source": [
    "num = int(input('Enter the value here :'))\n",
    "if num%5==0:\n",
    "    print('Hello!')\n",
    "else:\n",
    "    print('Bye!')"
   ]
  },
  {
   "cell_type": "markdown",
   "id": "08a8eed1",
   "metadata": {},
   "source": [
    "7) Write a program to display the last digit of a number."
   ]
  },
  {
   "cell_type": "code",
   "execution_count": null,
   "id": "ff26bf6d",
   "metadata": {},
   "outputs": [],
   "source": [
    "num = float(input('Enter the value :'))\n",
    "last_digit = num%10\n",
    "print(last_digit)"
   ]
  },
  {
   "cell_type": "markdown",
   "id": "6f919722",
   "metadata": {},
   "source": [
    "Q8. Write a program to check whether the last digit of a number( entered by user ) is divisible by 3 or not.\n"
   ]
  },
  {
   "cell_type": "code",
   "execution_count": null,
   "id": "43703896",
   "metadata": {},
   "outputs": [],
   "source": [
    "num = float(input('Enter'))\n",
    "last_digit = num%10\n",
    "if last_digit%3==0:\n",
    "    print('last_digtit is :',last_digit)"
   ]
  },
  {
   "cell_type": "markdown",
   "id": "12ba7fc2",
   "metadata": {},
   "source": [
    "9) Take values of length and breadth of a rectangle from user and print if it is square or rectangle."
   ]
  },
  {
   "cell_type": "code",
   "execution_count": null,
   "id": "5d0991b5",
   "metadata": {},
   "outputs": [],
   "source": [
    "L = float (input(\"Enter length value :\"))\n",
    "B =float (input( 'breadth value :'))\n",
    "if L == B :\n",
    "    print('Its a square.')\n",
    "else:\n",
    "    print ('Its a rectangle')"
   ]
  },
  {
   "cell_type": "markdown",
   "id": "0a99ceae",
   "metadata": {},
   "source": [
    "10) Take two int values from user and print greatest among them."
   ]
  },
  {
   "cell_type": "code",
   "execution_count": null,
   "id": "31173f66",
   "metadata": {},
   "outputs": [],
   "source": [
    "num1 = int(input(\"Enter 1st value :\"))\n",
    "num2 = int(input(\"Enter 2nd value :\"))\n",
    "if num1 > num2:\n",
    "    print('Number1:',num1, 'is greaterthan',num2)\n",
    "else:\n",
    "    print('Number2:',num2, 'is greaterthan',num1)"
   ]
  },
  {
   "cell_type": "markdown",
   "id": "9c84a30c",
   "metadata": {},
   "source": [
    "11) A shop will give discount of 10% if the cost of purchased quantity is more than 1000. Ask user for quantity Suppose, one unit will cost 100.\n",
    "Judge and print total cost for user."
   ]
  },
  {
   "cell_type": "code",
   "execution_count": null,
   "id": "414a7b64",
   "metadata": {},
   "outputs": [],
   "source": [
    "quantity=int (input('Enter Qty Here :'))\n",
    "total_costB = quantity * 100\n",
    "total_discount = total_costB * 0.1\n",
    "total_cost = total_costB - total_discount\n",
    "if total_costB > 1000 :\n",
    "    print('Your Total cost is :',total_cost)\n",
    "else:\n",
    "    print('Your purchase is lessthan 1000rs')"
   ]
  },
  {
   "cell_type": "markdown",
   "id": "b07efd56",
   "metadata": {},
   "source": [
    "12) A school has following rules for grading system:\n",
    "\n",
    "a. Below 25 - F\n",
    "\n",
    "b. 25 to 45 - E\n",
    "\n",
    "c. 45 to 50 - D\n",
    "\n",
    "d. 50 to 60 - C\n",
    "\n",
    "e. 60 to 80 - B\n",
    "\n",
    "f. Above 80 - A\n",
    "\n",
    "\n",
    "Ask user to enter marks and print the corresponding grade. "
   ]
  },
  {
   "cell_type": "code",
   "execution_count": null,
   "id": "54c5595c",
   "metadata": {},
   "outputs": [],
   "source": [
    "marks = float(input('Hey! Enter Your prcentage here :'))\n",
    "\n",
    "if marks < 25 :\n",
    "    print('FAIL')\n",
    "elif 25 <= marks < 45:\n",
    "    print('Your Grade is E')\n",
    "elif 45 <= marks < 50:\n",
    "    print('Your Grade is D')\n",
    "elif 50 <= marks < 60:\n",
    "    print('Your Grade is C')\n",
    "elif 60 <= marks < 80:\n",
    "    print('Your Grade is B')\n",
    "else:\n",
    "    print('Your Grade is A')"
   ]
  },
  {
   "cell_type": "code",
   "execution_count": null,
   "id": "87a31194",
   "metadata": {},
   "outputs": [],
   "source": []
  },
  {
   "cell_type": "markdown",
   "id": "ab94cb3f",
   "metadata": {},
   "source": [
    "14)A student will not be allowed to sit in exam if his/her attendence is less than 75%.\n",
    "\n",
    "Take following input from user\n",
    "\n",
    "Number of classes held\n",
    "\n",
    "Number of classes attended.\n",
    "\n",
    "And print\n",
    "\n",
    "percentage of class attended\n",
    "\n",
    "Is student is allowed to sit in exam or not."
   ]
  },
  {
   "cell_type": "code",
   "execution_count": null,
   "id": "88da5742",
   "metadata": {},
   "outputs": [],
   "source": [
    "classes_held = int(input(\"Enter the number of classes held: \"))\n",
    "classes_attended = int(input(\"Enter the number of classes attended: \"))\n",
    "\n",
    "attendance_percentage = (classes_attended / classes_held) * 100\n",
    "\n",
    "print(f\"Percentage of classes attended:\" ,attendance_percentage, '%')\n",
    "\n",
    "\n",
    "if attendance_percentage >= 75:\n",
    "    \n",
    "    print(\"The student is allowed to sit in the exam.\")\n",
    "else:\n",
    "    print(\"The student is not allowed to sit in the exam.\")"
   ]
  },
  {
   "cell_type": "markdown",
   "id": "7124bbb8",
   "metadata": {},
   "source": [
    "15) Modify the above question to allow student to sit if he/she has medical cause. Ask user if he/she has medical cause or not ( 'Y' or 'N' ) and\n",
    "print accordingly."
   ]
  },
  {
   "cell_type": "code",
   "execution_count": 9,
   "id": "3399b758",
   "metadata": {},
   "outputs": [
    {
     "name": "stdout",
     "output_type": "stream",
     "text": [
      "Do you have a medical cause? (Enter 'Y' or 'N'): Y\n",
      "Submit the leave application\n"
     ]
    }
   ],
   "source": [
    "medical_cause = input(\"Do you have a medical cause? (Enter 'Y' or 'N'): \")\n",
    "if medical_cause == 'Y':\n",
    "    print('Submit the leave application')\n",
    "else:\n",
    "    print('you are not allowed to sit in exam')\n",
    "    "
   ]
  },
  {
   "cell_type": "markdown",
   "id": "6736c367",
   "metadata": {},
   "source": [
    "16) Write a program to check if a year is leap year or not.\n",
    "If a year is divisible by 4 then it is leap year but if the year is century year like 2000, 1900, 2100 then it must be divisible by 400. "
   ]
  },
  {
   "cell_type": "code",
   "execution_count": 4,
   "id": "5887be5b",
   "metadata": {},
   "outputs": [
    {
     "name": "stdout",
     "output_type": "stream",
     "text": [
      "year2002\n",
      "century1900\n",
      "2002 is not a leap year\n"
     ]
    }
   ],
   "source": [
    "leap_year=int(input('year'))\n",
    "century=int(input('century'))\n",
    "if leap_year % 4 == 0:\n",
    "    print(leap_year,'is a leap year.')\n",
    "    if century % 400 == 0:\n",
    "        print('its also a leap year')\n",
    "else:\n",
    "    print(leap_year,'is not a leap year')"
   ]
  },
  {
   "cell_type": "markdown",
   "id": "49f43e91",
   "metadata": {},
   "source": [
    "17) Ask user to enter age, gender ( M or F ), marital status ( Y or N ) and then using following rules print their place of service.\n",
    "\n",
    "if employee is female, then she will work only in urban areas.\n",
    "\n",
    "if employee is a male and age is in between 20 to 40 then he may work in anywhere\n",
    "\n",
    "if employee is male and age is in between 40 t0 60 then he will work in urban areas only.\n",
    "\n",
    "And any other input of age should print \"ERROR\"."
   ]
  },
  {
   "cell_type": "code",
   "execution_count": 3,
   "id": "7a53e140",
   "metadata": {},
   "outputs": [
    {
     "name": "stdout",
     "output_type": "stream",
     "text": [
      "Enter your age24\n",
      "Enter your gender : (Enter'M'or'F')F\n",
      "Enter your marital status : (Enter'Y' or 'N')N\n",
      "You will work only in urban areas.\n",
      "\"ERROR\"\n"
     ]
    }
   ],
   "source": [
    "age=int(input(\"Enter your age\"))\n",
    "gender=input(\"Enter your gender : (Enter'M'or'F')\")\n",
    "marital_status=input(\"Enter your marital status : (Enter'Y' or 'N')\")\n",
    "if gender == 'F' :\n",
    "    print('You will work only in urban areas.')\n",
    "if gender == 'M' and age > 20 >= 40 :\n",
    "    print('You may work in anywhere')\n",
    "if gender == 'M' and age > 40 >= 60 :\n",
    "    print ('You will work in urban areas')\n",
    "else:\n",
    "    print('\"ERROR\"')"
   ]
  },
  {
   "cell_type": "markdown",
   "id": "a8f0da0c",
   "metadata": {},
   "source": [
    "6) Write a program to calculate the electricity bill (accept number of unit from user) according to the following criteria : Unit Price\n",
    "\n",
    "uptp 100 units no charge Next 200 units Rs 5 per unit After 200 units Rs 10 per unit (For example if input unit is 350 than total bill amount is\n",
    "\n",
    "Rs.3500 (For example if input unit is 97 than total bill amount is Rs.0 (For example if input unit is 150 than total bill amount is Rs.750."
   ]
  },
  {
   "cell_type": "code",
   "execution_count": null,
   "id": "5b72e9f2",
   "metadata": {},
   "outputs": [],
   "source": [
    "\n",
    " if units <= 100:\n",
    "        total_bill = 0\n",
    "    elif units <= 300:\n",
    "        total_bill = (units - 100) * 5\n",
    "    else:\n",
    "        total_bill = (200 * 5) + (units - 300) * 10\n",
    "    \n",
    "    return total_bill\n",
    "\n",
    "# Accepting user input for the number of units\n",
    "try:\n",
    "    units = int(input(\"Enter the number of units: \"))\n",
    "    if units < 0:\n",
    "        raise ValueError(\"Please enter a non-negative number.\")\n",
    "    \n",
    "    bill_amount = calculate_electricity_bill(units)\n",
    "    print(f'Total bill amount: Rs.{bill_amount}')\n",
    "\n",
    "except ValueError as e:\n",
    "    print(f'Error: {e}. Please enter a valid number of units.')"
   ]
  },
  {
   "cell_type": "markdown",
   "id": "afb3182a",
   "metadata": {},
   "source": [
    "13) Take input of age of 3 people by user and determine oldest and youngest among them. "
   ]
  },
  {
   "cell_type": "code",
   "execution_count": 30,
   "id": "b5be21e2",
   "metadata": {},
   "outputs": [
    {
     "name": "stdout",
     "output_type": "stream",
     "text": [
      "Age of 1st person55\n",
      "Age of 2nd person65\n",
      "Age of 3rd person75\n",
      "75\n"
     ]
    }
   ],
   "source": [
    "age1=int(input('Age of 1st person'))\n",
    "age2=int(input('Age of 2nd person'))\n",
    "age3=int(input('Age of 3rd person'))\n",
    "older = max (age1,age2,age3)\n",
    "print(older)\n",
    "    "
   ]
  },
  {
   "cell_type": "code",
   "execution_count": null,
   "id": "1b6b4093",
   "metadata": {},
   "outputs": [],
   "source": []
  }
 ],
 "metadata": {
  "kernelspec": {
   "display_name": "Python 3 (ipykernel)",
   "language": "python",
   "name": "python3"
  },
  "language_info": {
   "codemirror_mode": {
    "name": "ipython",
    "version": 3
   },
   "file_extension": ".py",
   "mimetype": "text/x-python",
   "name": "python",
   "nbconvert_exporter": "python",
   "pygments_lexer": "ipython3",
   "version": "3.11.5"
  }
 },
 "nbformat": 4,
 "nbformat_minor": 5
}
